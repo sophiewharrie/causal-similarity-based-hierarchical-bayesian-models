{
 "cells": [
  {
   "cell_type": "code",
   "execution_count": null,
   "metadata": {},
   "outputs": [],
   "source": [
    "import mlflow\n",
    "import datetime\n",
    "import seaborn as sns\n",
    "import matplotlib.pyplot as plt"
   ]
  },
  {
   "cell_type": "code",
   "execution_count": null,
   "metadata": {},
   "outputs": [],
   "source": [
    "# get mlflow runs\n",
    "experiment_id = '100992505006922144' # TODO update mlflow experiment ID if it changes (check mlruns directory)\n",
    "\n",
    "mlflow.set_tracking_uri(\"../../mlruns\")\n",
    "\n",
    "runs = mlflow.search_runs(experiment_ids=[experiment_id])\n",
    "\n",
    "failed_runs = len(runs[runs['status']=='FAILED'][['params.model']])\n",
    "print(\"{} experiment runs failed ({}% of total)\".format(failed_runs, failed_runs/len(runs)*100))"
   ]
  },
  {
   "cell_type": "code",
   "execution_count": null,
   "metadata": {},
   "outputs": [],
   "source": [
    "# timestamp for saving figures, tables and other outputs from this experiment run\n",
    "timestamp = datetime.datetime.now().strftime(\"%Y%m%d-%H%M%S\")\n",
    "print(timestamp)"
   ]
  },
  {
   "cell_type": "code",
   "execution_count": null,
   "metadata": {},
   "outputs": [],
   "source": [
    "runs.to_csv(f'results-{timestamp}.csv', index=None)"
   ]
  },
  {
   "cell_type": "code",
   "execution_count": null,
   "metadata": {},
   "outputs": [],
   "source": [
    "# cleanup the data fields for analysis\n",
    "runs['trial'] = runs['params.datafile'].str.split('_').str[-2]\n",
    "runs['causal_distance_type'] = runs['params.causal_distance'].str[:-1]\n",
    "runs['causal_distance_no'] = runs['params.causal_distance'].str[-1].astype(int)\n",
    "\n",
    "results = runs.sort_values(by='metrics.RMSE_avg_val').groupby(['causal_distance_type','causal_distance_no','trial']).first()\n",
    "results = results[['metrics.RMSE_avg_val','metrics.RMSE_avg_test']].reset_index()\n",
    "\n",
    "results['causal_dist_name'] = results['causal_distance_type'].str[:3]\n",
    "causal_dist_no_map = {1:1, 2:2, 3:4, 4:8, 5:16, 6:32, 7:64}\n",
    "results['causal_distance_no'] = results['causal_distance_no'].map(causal_dist_no_map)"
   ]
  },
  {
   "cell_type": "code",
   "execution_count": null,
   "metadata": {},
   "outputs": [],
   "source": [
    "# plot the results\n",
    "\n",
    "sns.set_style(\"whitegrid\")\n",
    "\n",
    "fig, axes = plt.subplots(1, 2, figsize=(12,4), sharey=True)\n",
    "\n",
    "ax1 = sns.lineplot(results[results['causal_distance_type'].str.contains('dist')], x='causal_distance_no', y='metrics.RMSE_avg_test', hue='causal_dist_name', style='causal_dist_name', ax=axes[0], errorbar='sd')\n",
    "ax2 = sns.lineplot(results[results['causal_distance_type'].str.contains('struc')], x='causal_distance_no', y='metrics.RMSE_avg_test', hue='causal_dist_name', style='causal_dist_name', ax=axes[1], errorbar='sd')\n",
    "\n",
    "sns.despine(left=True)\n",
    "ax1.set_ylabel('RMSE of test tasks')\n",
    "ax2.set_ylabel('RMSE of test tasks')\n",
    "ax1.set_xlabel('α1 (100s), for fixed α2')\n",
    "ax2.set_xlabel('α2, for fixed α1')\n",
    "\n",
    "ax1.legend().set_title('')\n",
    "ax2.legend().set_title('')\n",
    "\n",
    "for ax in axes:\n",
    "    ax.legend(loc='upper center', bbox_to_anchor=(0.5, -0.15), ncol=2, borderpad=0.1, columnspacing=0.5)\n",
    "\n",
    "plt.savefig(f'results-alpha-{timestamp}.png', dpi=300, bbox_inches='tight')\n",
    "plt.show()\n"
   ]
  }
 ],
 "metadata": {
  "language_info": {
   "name": "python"
  }
 },
 "nbformat": 4,
 "nbformat_minor": 2
}
