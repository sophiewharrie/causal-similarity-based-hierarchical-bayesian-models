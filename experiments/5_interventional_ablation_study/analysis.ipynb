{
 "cells": [
  {
   "cell_type": "code",
   "execution_count": null,
   "metadata": {},
   "outputs": [],
   "source": [
    "import mlflow\n",
    "import datetime\n",
    "import seaborn as sns\n",
    "import matplotlib.pyplot as plt"
   ]
  },
  {
   "cell_type": "code",
   "execution_count": null,
   "metadata": {},
   "outputs": [],
   "source": [
    "# get mlflow runs\n",
    "experiment_id = '248049560939767354' # TODO update mlflow experiment ID if it changes (check mlruns directory)\n",
    "\n",
    "mlflow.set_tracking_uri(\"../../mlruns\")\n",
    "\n",
    "runs = mlflow.search_runs(experiment_ids=[experiment_id])\n",
    "\n",
    "failed_runs = len(runs[runs['status']=='FAILED'][['params.model']])\n",
    "print(\"{} experiment runs failed ({}% of total)\".format(failed_runs, failed_runs/len(runs)*100))"
   ]
  },
  {
   "cell_type": "code",
   "execution_count": null,
   "metadata": {},
   "outputs": [],
   "source": [
    "# timestamp for saving figures, tables and other outputs from this experiment run\n",
    "timestamp = datetime.datetime.now().strftime(\"%Y%m%d-%H%M%S\")\n",
    "print(timestamp)"
   ]
  },
  {
   "cell_type": "code",
   "execution_count": null,
   "metadata": {},
   "outputs": [],
   "source": [
    "runs.to_csv(f'results-{timestamp}.csv', index=None)"
   ]
  },
  {
   "cell_type": "code",
   "execution_count": null,
   "metadata": {},
   "outputs": [],
   "source": [
    "# cleanup the data fields for analysis\n",
    "\n",
    "data = runs[['params.model',\n",
    "      'params.datafile',\n",
    "      'params.num_groups',\n",
    "      'params.inference_type',\n",
    "      'params.interventional_option',\n",
    "      'metrics.RMSE_avg_val',\n",
    "      'metrics.RMSE_avg_test',\n",
    "      'params.lambda',\n",
    "      'params.num_initial_epochs',\n",
    "      'metrics.total_num_epochs',\n",
    "      'params.base_learning_rate_initial', \n",
    "      'params.meta_learning_rate_initial', \n",
    "      'params.base_learning_rate_main', \n",
    "      'params.meta_learning_rate_global_main',\n",
    "      'params.meta_learning_rate_group_main']]\n",
    "\n",
    "data['method'] = data['params.model'] + data['params.inference_type'] + data['params.interventional_option']\n",
    "data['dataset'] = data['params.datafile'].str.split('/').str[-1].str.split('_').str[0]\n",
    "data['trials'] = data['params.datafile'].str.split('/').str[-1].str.split('_').str[1].str[7].astype(int)\n"
   ]
  },
  {
   "cell_type": "code",
   "execution_count": null,
   "metadata": {},
   "outputs": [],
   "source": [
    "# economics dataset  \n",
    "data = data[~data['metrics.RMSE_avg_test'].isna()]\n",
    "results = data[data['dataset']=='econ'].sort_values(by='metrics.RMSE_avg_val').groupby(['dataset','method','trials']).first()\n",
    "results = results.groupby(['dataset','method'])[['metrics.RMSE_avg_val','metrics.RMSE_avg_test']].agg(['mean', 'std']).reset_index()\n",
    "results['metrics.RMSE_avg_val_fmt'] = results.apply(lambda x: f\"{x[('metrics.RMSE_avg_val','mean')]:.3f} ({x[('metrics.RMSE_avg_val','std')]:.3f})\", axis=1)\n",
    "results['metrics.RMSE_avg_test_fmt'] = results.apply(lambda x: f\"{x[('metrics.RMSE_avg_test','mean')]:.3f} ({x[('metrics.RMSE_avg_val','std')]:.3f})\", axis=1)\n",
    "results = results.sort_values(by=('metrics.RMSE_avg_test','mean'))[['method','metrics.RMSE_avg_val_fmt','metrics.RMSE_avg_test_fmt']]\n",
    "results.to_csv(f'results-econ-{timestamp}.csv', index=None)\n",
    "results"
   ]
  },
  {
   "cell_type": "code",
   "execution_count": null,
   "metadata": {},
   "outputs": [],
   "source": [
    "# ukbiobank dataset\n",
    "data = data[~data['metrics.RMSE_avg_test'].isna()]\n",
    "results = data[(data['dataset']=='ukbb')&(data['trials'].isin([1,2]))].sort_values(by='metrics.RMSE_avg_val').groupby(['dataset','method','trials']).first()\n",
    "results = results.groupby(['dataset','method'])[['metrics.RMSE_avg_val','metrics.RMSE_avg_test']].agg(['mean', 'std']).reset_index()\n",
    "results['metrics.RMSE_avg_val_fmt'] = results.apply(lambda x: f\"{x[('metrics.RMSE_avg_val','mean')]:.3f} ({x[('metrics.RMSE_avg_val','std')]:.3f})\", axis=1)\n",
    "results['metrics.RMSE_avg_test_fmt'] = results.apply(lambda x: f\"{x[('metrics.RMSE_avg_test','mean')]:.3f} ({x[('metrics.RMSE_avg_val','std')]:.3f})\", axis=1)\n",
    "results = results.sort_values(by=('metrics.RMSE_avg_test','mean'))[['method','metrics.RMSE_avg_val_fmt','metrics.RMSE_avg_test_fmt']]\n",
    "results.to_csv(f'results-ukbb-{timestamp}.csv', index=None)\n",
    "results"
   ]
  }
 ],
 "metadata": {
  "language_info": {
   "name": "python"
  }
 },
 "nbformat": 4,
 "nbformat_minor": 2
}
