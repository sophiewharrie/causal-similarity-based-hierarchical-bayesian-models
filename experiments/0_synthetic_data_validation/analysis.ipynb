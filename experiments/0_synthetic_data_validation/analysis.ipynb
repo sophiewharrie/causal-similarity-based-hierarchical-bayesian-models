{
 "cells": [
  {
   "cell_type": "code",
   "execution_count": 1,
   "metadata": {},
   "outputs": [],
   "source": [
    "import pandas as pd\n",
    "import seaborn as sns\n",
    "import matplotlib.pyplot as plt\n",
    "import datetime\n",
    "import numpy as np"
   ]
  },
  {
   "cell_type": "code",
   "execution_count": null,
   "metadata": {},
   "outputs": [],
   "source": [
    "# timestamp for saving figures, tables and other outputs from this experiment run\n",
    "timestamp = datetime.datetime.now().strftime(\"%Y%m%d-%H%M%S\")\n",
    "print(timestamp)"
   ]
  },
  {
   "cell_type": "code",
   "execution_count": null,
   "metadata": {},
   "outputs": [],
   "source": [
    "data = pd.DataFrame()\n",
    "data_groups = pd.DataFrame()\n",
    "\n",
    "for trial in [1, 2, 3]:\n",
    "    for C in [1, 2, 3, 4, 5, 6, 7, 8]:\n",
    "        filepath = f'../../data/synthetic/output/datavalidation_C_{C}_trial_{trial}_causal_sim.csv'\n",
    "        filepath_gt = f'../../data/synthetic/output/datavalidation_C_{C}_trial_{trial}_task_metadata.csv'\n",
    "        try:\n",
    "            # get the causal distances for the dataset\n",
    "            df = pd.read_csv(filepath)\n",
    "            df['C'] = C\n",
    "            data = pd.concat([data, df[['SHD','SID','OD','ID','C']]])\n",
    "            # get the average causal distances\n",
    "            # (1) within the same causal group\n",
    "            # (2) between causal groups\n",
    "            df_gt = pd.read_csv(filepath_gt)\n",
    "            gt_map = dict(zip(df_gt['task'], df_gt['ground_truth']))\n",
    "            df['gt1'] = df['task1'].map(gt_map)\n",
    "            df['gt2'] = df['task2'].map(gt_map)\n",
    "            df['same_group'] = df['gt1']==df['gt2']\n",
    "            df.groupby('same_group').mean().reset_index()\n",
    "            df['trial'] = trial\n",
    "            data_groups = pd.concat([data_groups, df[['same_group','SHD','SID','OD','ID','C','trial']]])\n",
    "        except:\n",
    "            print(\"error with file {}\".format(filepath))"
   ]
  },
  {
   "cell_type": "code",
   "execution_count": null,
   "metadata": {},
   "outputs": [],
   "source": [
    "# plot number of causal groups (C) against average causal distance\n",
    "\n",
    "sns.set_style(\"whitegrid\")\n",
    "\n",
    "fig, axes = plt.subplots(1, 4, figsize=(16,4))\n",
    "\n",
    "sns.lineplot(data=data, x='C', y='SHD', errorbar='sd', ax=axes[0])\n",
    "sns.lineplot(data=data, x='C', y='SID', errorbar='sd', ax=axes[1])\n",
    "sns.lineplot(data=data, x='C', y='OD', errorbar='sd', ax=axes[2])\n",
    "sns.lineplot(data=data, x='C', y='ID', errorbar='sd', ax=axes[3])\n",
    "\n",
    "sns.despine(left=True)\n",
    "\n",
    "plt.tight_layout()\n",
    "plt.savefig(f'results-{timestamp}.png', dpi=300)\n",
    "plt.show()"
   ]
  },
  {
   "cell_type": "code",
   "execution_count": null,
   "metadata": {},
   "outputs": [],
   "source": [
    "# get average causal distances for each value of C\n",
    "\n",
    "tmp = data.groupby('C').mean().reset_index()\n",
    "tmp.to_csv(f'results-{timestamp}.csv', index=None)\n",
    "tmp"
   ]
  },
  {
   "cell_type": "code",
   "execution_count": null,
   "metadata": {},
   "outputs": [],
   "source": [
    "# compare the causal distances between tasks in the same causal group vs. between tasks in different causal groups\n",
    "# we expect the causal distances to be lower for tasks in the same causal group\n",
    "\n",
    "metrics = ['SHD','SID','OD','ID']\n",
    "tmp = data_groups.groupby(['same_group','C','trial']).mean().reset_index()\n",
    "tmp = tmp[tmp['C'].isin([2, 4, 6, 8])]\n",
    "tmp = pd.DataFrame(tmp).groupby(['C','same_group'])[metrics].agg(['mean', 'std']).reset_index()\n",
    "for metric in metrics:\n",
    "    tmp[\"{}_fmt\".format(metric)] = tmp.apply(lambda x: f\"{x[(metric,'mean')]:.3f} ({x[(metric,'std')]:.3f})\", axis=1)\n",
    "    tmp = tmp.drop(columns=[(metric,'mean'),(metric,'std')])\n",
    "tmp.to_csv(f'results-groups-{timestamp}.csv', index=None)\n",
    "tmp"
   ]
  },
  {
   "cell_type": "code",
   "execution_count": null,
   "metadata": {},
   "outputs": [],
   "source": [
    "# pearson correlation between pairs of causal distances\n",
    "\n",
    "metrics = ['SHD','SID','OD','ID']\n",
    "tmp = data_groups[data_groups['C']==4]\n",
    "mean_vals = np.array([tmp[tmp['trial']==t][metrics].corr().values for t in [1,2,3]]).mean(axis=0).round(3)\n",
    "std_vals = np.array([tmp[tmp['trial']==t][metrics].corr().values for t in [1,2,3]]).std(axis=0).round(3)\n",
    "\n",
    "results = np.empty((len(metrics), len(metrics)), dtype='U20')\n",
    "for i in range(len(metrics)):\n",
    "    for j in range(len(metrics)):\n",
    "        results[i][j] = str(mean_vals[i][j]) + ' (' + str(std_vals[i][j]) + ')' # get mean and standard deviation across trials\n",
    "\n",
    "results = pd.DataFrame(results,columns=metrics)\n",
    "results.index = ['SHD','SID','OD','ID']\n",
    "results.to_csv(f'results-corr-{timestamp}.csv', index=None)\n",
    "results"
   ]
  }
 ],
 "metadata": {
  "kernelspec": {
   "display_name": "base_ml",
   "language": "python",
   "name": "python3"
  },
  "language_info": {
   "codemirror_mode": {
    "name": "ipython",
    "version": 3
   },
   "file_extension": ".py",
   "mimetype": "text/x-python",
   "name": "python",
   "nbconvert_exporter": "python",
   "pygments_lexer": "ipython3",
   "version": "3.11.3"
  }
 },
 "nbformat": 4,
 "nbformat_minor": 2
}
